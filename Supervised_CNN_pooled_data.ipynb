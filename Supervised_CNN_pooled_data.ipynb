version https://git-lfs.github.com/spec/v1
oid sha256:a6277ae8265c6e982b18f78892e4b13fd3a79943ef168802592e0247e7df9f2e
size 162449
