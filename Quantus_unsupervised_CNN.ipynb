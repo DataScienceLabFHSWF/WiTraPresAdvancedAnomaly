version https://git-lfs.github.com/spec/v1
oid sha256:cccf0e45fba6e8d343f28f072fb8ca1cbc5232ceae9a0ef708a9289b140da594
size 705093
