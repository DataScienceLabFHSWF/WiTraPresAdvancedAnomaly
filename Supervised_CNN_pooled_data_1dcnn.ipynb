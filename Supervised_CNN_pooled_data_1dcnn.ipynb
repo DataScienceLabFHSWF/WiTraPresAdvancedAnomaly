version https://git-lfs.github.com/spec/v1
oid sha256:cbcd810db9bc1f3262b35912a75c218dd2586533f1643d870740ca6c98f3102d
size 122666
