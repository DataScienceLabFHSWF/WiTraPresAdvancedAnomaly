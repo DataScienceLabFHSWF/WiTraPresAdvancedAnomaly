version https://git-lfs.github.com/spec/v1
oid sha256:6fdd4d00739b131579d3101d8ad6b64296399c51c02f8ac1bd2febcc25feac1a
size 517670
